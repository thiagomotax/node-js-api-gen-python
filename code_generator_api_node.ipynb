{
 "cells": [
  {
   "cell_type": "code",
   "execution_count": 2,
   "metadata": {},
   "outputs": [
    {
     "name": "stdout",
     "output_type": "stream",
     "text": [
      "Collecting mysql-connectorNote: you may need to restart the kernel to use updated packages.\n",
      "  Downloading mysql-connector-2.2.9.tar.gz (11.9 MB)\n",
      "Building wheels for collected packages: mysql-connector\n",
      "\n"
     ]
    },
    {
     "name": "stderr",
     "output_type": "stream",
     "text": [
      "WARNING: You are using pip version 20.0.2; however, version 20.1 is available.\n",
      "You should consider upgrading via the 'c:\\users\\thiago\\appdata\\local\\programs\\python\\python37\\python.exe -m pip install --upgrade pip' command.\n"
     ]
    },
    {
     "name": "stdout",
     "output_type": "stream",
     "text": [
      "  Building wheel for mysql-connector (setup.py): started\n",
      "  Building wheel for mysql-connector (setup.py): finished with status 'done'\n",
      "  Created wheel for mysql-connector: filename=mysql_connector-2.2.9-cp37-cp37m-win_amd64.whl size=247952 sha256=b70015fee23a223282cb473db3bded667750183b63cdb1dcdb073a55bada5427\n",
      "  Stored in directory: c:\\users\\thiago\\appdata\\local\\pip\\cache\\wheels\\42\\2f\\c3\\692fc7fc1f0d8c06b9175d94f0fc30f4f92348f5df5af1b8b7\n",
      "Successfully built mysql-connector\n",
      "Installing collected packages: mysql-connector\n",
      "Successfully installed mysql-connector-2.2.9\n"
     ]
    }
   ],
   "source": [
    "pip install mysql-connector"
   ]
  },
  {
   "cell_type": "code",
   "execution_count": 103,
   "metadata": {},
   "outputs": [
    {
     "name": "stdout",
     "output_type": "stream",
     "text": [
      "<mysql.connector.connection.MySQLConnection object at 0x0000019ED72F4208>\n"
     ]
    }
   ],
   "source": [
    "import mysql.connector\n",
    "\n",
    "conn = mysql.connector.connect(\n",
    "  host=\"localhost\",\n",
    "  user=\"root\",\n",
    "  password=\"\",\n",
    "  database=\"calendar\"\n",
    ")\n",
    "\n",
    "print(conn)\n"
   ]
  },
  {
   "cell_type": "code",
   "execution_count": 104,
   "metadata": {},
   "outputs": [],
   "source": [
    "column_name = \"events\""
   ]
  },
  {
   "cell_type": "code",
   "execution_count": 105,
   "metadata": {},
   "outputs": [],
   "source": [
    "cursor = conn.cursor()"
   ]
  },
  {
   "cell_type": "code",
   "execution_count": 106,
   "metadata": {
    "scrolled": true
   },
   "outputs": [],
   "source": [
    "cursor.execute(\"SHOW COLUMNS FROM {0};\".format(column_name))"
   ]
  },
  {
   "cell_type": "code",
   "execution_count": 107,
   "metadata": {},
   "outputs": [
    {
     "name": "stdout",
     "output_type": "stream",
     "text": [
      "You're connected to database:  [('id', 'int(11)', 'NO', 'PRI', None, 'auto_increment'), ('title', 'varchar(255)', 'NO', '', None, ''), ('color', 'varchar(7)', 'YES', '', None, ''), ('start', 'datetime', 'NO', '', None, ''), ('end', 'datetime', 'YES', '', None, '')]\n"
     ]
    }
   ],
   "source": [
    "record = cursor.fetchall()\n",
    "print(\"You're connected to database: \", record)"
   ]
  },
  {
   "cell_type": "code",
   "execution_count": 108,
   "metadata": {},
   "outputs": [],
   "source": [
    "column_names = []\n",
    "for x in record:\n",
    "    column_names.append(x[0])"
   ]
  },
  {
   "cell_type": "code",
   "execution_count": 109,
   "metadata": {},
   "outputs": [],
   "source": [
    "#table-name.routes.js\n",
    "route = \"\"\"module.exports = app => {{\n",
    "    const {0} = require('../controllers/{0}.controller.js');\n",
    "\n",
    "    // Cria novo {0}\n",
    "    app.post('/{0}', {0}.create);\n",
    "    \n",
    "    // Lista todos {0}\n",
    "    app.get('/{0}/', {0}.findAll);\n",
    "\n",
    "    // Lista {0} baseado no id\n",
    "    app.get('/{0}/:id', {0}.findOne);\n",
    "    \n",
    "    // Atualiza {0} baseado no id\n",
    "    app.put('/{0}/:id', {0}.update);\n",
    "\n",
    "    // Exclui {0} baseado no id\n",
    "    app.delete('/{0}/:id', {0}.delete);\n",
    "\n",
    "}};\"\"\"\n",
    "    \n",
    "f = open(\"{0}.routes.js\".format(column_name), \"w\")\n",
    "f.write(route.format(column_name))\n",
    "             \n",
    "f.close()"
   ]
  },
  {
   "cell_type": "code",
   "execution_count": null,
   "metadata": {},
   "outputs": [],
   "source": []
  },
  {
   "cell_type": "code",
   "execution_count": null,
   "metadata": {},
   "outputs": [],
   "source": []
  },
  {
   "cell_type": "code",
   "execution_count": null,
   "metadata": {},
   "outputs": [],
   "source": []
  },
  {
   "cell_type": "code",
   "execution_count": null,
   "metadata": {},
   "outputs": [],
   "source": []
  },
  {
   "cell_type": "code",
   "execution_count": 110,
   "metadata": {},
   "outputs": [
    {
     "data": {
      "text/plain": [
       "'    title: req.body.title,\\n        color: req.body.color,\\n        start: req.body.start,\\n        end: req.body.end,\\n        '"
      ]
     },
     "execution_count": 110,
     "metadata": {},
     "output_type": "execute_result"
    }
   ],
   "source": [
    "#cria a string de atributos\n",
    "# email: req.body.email,\n",
    "campos = \"    \"\n",
    "for campo in column_names:\n",
    "    if campo != \"id\":\n",
    "        campos += \"\"\"{0}: req.body.{1},\\n        \"\"\".format(campo, campo)\n",
    "campos"
   ]
  },
  {
   "cell_type": "code",
   "execution_count": null,
   "metadata": {},
   "outputs": [],
   "source": []
  },
  {
   "cell_type": "code",
   "execution_count": null,
   "metadata": {},
   "outputs": [],
   "source": []
  },
  {
   "cell_type": "code",
   "execution_count": null,
   "metadata": {},
   "outputs": [],
   "source": []
  },
  {
   "cell_type": "code",
   "execution_count": null,
   "metadata": {},
   "outputs": [],
   "source": []
  },
  {
   "cell_type": "code",
   "execution_count": null,
   "metadata": {},
   "outputs": [],
   "source": []
  },
  {
   "cell_type": "code",
   "execution_count": 111,
   "metadata": {
    "scrolled": true
   },
   "outputs": [
    {
     "name": "stdout",
     "output_type": "stream",
     "text": [
      "    title: req.body.title,\n",
      "        color: req.body.color,\n",
      "        start: req.body.start,\n",
      "        end: req.body.end,\n",
      "        \n"
     ]
    }
   ],
   "source": [
    "print(campos)"
   ]
  },
  {
   "cell_type": "code",
   "execution_count": null,
   "metadata": {},
   "outputs": [],
   "source": []
  },
  {
   "cell_type": "code",
   "execution_count": 112,
   "metadata": {},
   "outputs": [],
   "source": [
    "#limitacoes do momento: o id tem que ser chamado id\n",
    "#ele está entrando na lista de parametros pra criar usuario, remover oq for 1key\n",
    "#qd for adicionar, lembrar de incluir no no server.js as rotas"
   ]
  },
  {
   "cell_type": "code",
   "execution_count": null,
   "metadata": {},
   "outputs": [],
   "source": []
  },
  {
   "cell_type": "code",
   "execution_count": null,
   "metadata": {},
   "outputs": [],
   "source": []
  },
  {
   "cell_type": "code",
   "execution_count": null,
   "metadata": {},
   "outputs": [],
   "source": []
  },
  {
   "cell_type": "code",
   "execution_count": null,
   "metadata": {
    "scrolled": false
   },
   "outputs": [],
   "source": []
  },
  {
   "cell_type": "code",
   "execution_count": null,
   "metadata": {},
   "outputs": [],
   "source": []
  },
  {
   "cell_type": "code",
   "execution_count": null,
   "metadata": {},
   "outputs": [],
   "source": []
  },
  {
   "cell_type": "code",
   "execution_count": null,
   "metadata": {},
   "outputs": [],
   "source": []
  },
  {
   "cell_type": "code",
   "execution_count": 113,
   "metadata": {},
   "outputs": [],
   "source": [
    "#table-name.controller.js\n",
    "controller = \"\"\"const {1} = require(\"../models/{0}.model.js\");\n",
    "// Cria e salva um novo {1}\n",
    "exports.create = (req, res) => {{\n",
    "    // Valida a requisicao\n",
    "    if (!req.body) {{\n",
    "        res.status(400).send({{\n",
    "            message: \"O conteudo nao pode ser vazio!\"\n",
    "        }});\n",
    "    }}\n",
    "\n",
    "    // Cria um novo {1}\n",
    "    const {0} = new {1}({{\n",
    "    {2}\n",
    "    }});\n",
    "\n",
    "    // Salva {1} na base de dados\n",
    "    {1}.create({0}, (err, data) => {{\n",
    "        if (err)\n",
    "            res.status(500).send({{\n",
    "                message: err.message || \"Ocorreu algum erro enquanto o novo {1} era criado.\"\n",
    "            }});\n",
    "        else res.send(data);\n",
    "    }});\n",
    "}};\n",
    "\n",
    "\n",
    "// Recupera todos {1} da base de dados\n",
    "exports.findAll = (req, res) => {{\n",
    "    {1}.getAll((err, data) => {{\n",
    "        if (err)\n",
    "            res.status(500).send({{\n",
    "                message: err.message || \"Ocorreu algum erro enquanto os {0} eram recuperados\"\n",
    "            }});\n",
    "        else res.send(data);\n",
    "    }});\n",
    "}};\n",
    "\n",
    "\n",
    "// Buscar um unico {1} dado o id\n",
    "exports.findOne = (req, res) => {{\n",
    "    {1}.findById(req.params.id, (err, data) => {{\n",
    "        if (err) {{\n",
    "            if (err.kind === \"not_found\") {{\n",
    "                res.status(404).send({{\n",
    "                    message: `Nao foi encontrado um {1} com o id ${{req.params.id}}.`\n",
    "                }});\n",
    "            }} else {{\n",
    "                res.status(500).send({{\n",
    "                    message: \"Erro recuperando o {1} com o id \" + req.params.id\n",
    "                }});\n",
    "            }}\n",
    "        }} else res.send(data);\n",
    "    }});\n",
    "}};\n",
    "\n",
    "\n",
    "// Atualiza um {1} dado um id\n",
    "exports.update = (req, res) => {{\n",
    "    // Validate Request\n",
    "    if (!req.body) {{\n",
    "        res.status(400).send({{\n",
    "            message: \"Conteudo nao pode ser vazio\"\n",
    "        }});\n",
    "    }}\n",
    "\n",
    "    console.log(req.body);\n",
    "\n",
    "    {1}.updateById(\n",
    "        req.params.id,\n",
    "        new {1}(req.body),\n",
    "        (err, data) => {{\n",
    "            if (err) {{\n",
    "                if (err.kind === \"not_found\") {{\n",
    "                    res.status(404).send({{\n",
    "                        message: `{1} nao encontrado com id ${{req.params.id}}.`\n",
    "                    }});\n",
    "                }} else {{\n",
    "                    res.status(500).send({{\n",
    "                        message: \"Erro atualizando {1} com id \" + req.params.id\n",
    "                    }});\n",
    "                }}\n",
    "            }} else res.send(data);\n",
    "        }}\n",
    "    );\n",
    "}};\n",
    "\n",
    "\n",
    "// Exclui um {1} dado um id\n",
    "exports.delete = (req, res) => {{\n",
    "    {1}.remove(req.params.id, (err, data) => {{\n",
    "        if (err) {{\n",
    "            if (err.kind === \"not_found\") {{\n",
    "                res.status(404).send({{\n",
    "                    message: `Nao foi encontrado um {1} com id ${{req.params.id}}.`\n",
    "                }});\n",
    "            }} else {{\n",
    "                res.status(500).send({{\n",
    "                    message: \"Nao foi possivel excluir o {1} de id \" + req.params.id\n",
    "                }});\n",
    "            }}\n",
    "        }} else res.send({{\n",
    "            message: `{1} foi excluido com sucesso!`\n",
    "        }});\n",
    "    }});\n",
    "}};\n",
    "\n",
    "\n",
    "\"\"\"\n",
    "\n",
    "f = open(\"{0}.controller.js\".format(column_name), \"w\")\n",
    "f.write(controller.format(column_name, column_name.capitalize(), campos))\n",
    "             \n",
    "f.close()"
   ]
  },
  {
   "cell_type": "code",
   "execution_count": null,
   "metadata": {},
   "outputs": [],
   "source": []
  },
  {
   "cell_type": "code",
   "execution_count": null,
   "metadata": {},
   "outputs": [],
   "source": []
  },
  {
   "cell_type": "code",
   "execution_count": null,
   "metadata": {},
   "outputs": [],
   "source": []
  },
  {
   "cell_type": "code",
   "execution_count": null,
   "metadata": {},
   "outputs": [],
   "source": []
  },
  {
   "cell_type": "code",
   "execution_count": null,
   "metadata": {},
   "outputs": [],
   "source": []
  },
  {
   "cell_type": "code",
   "execution_count": null,
   "metadata": {},
   "outputs": [],
   "source": []
  },
  {
   "cell_type": "code",
   "execution_count": 114,
   "metadata": {},
   "outputs": [
    {
     "data": {
      "text/plain": [
       "'  this.title = events.title,\\n  this.color = events.color,\\n  this.start = events.start,\\n  this.end = events.end\\n  '"
      ]
     },
     "execution_count": 114,
     "metadata": {},
     "output_type": "execute_result"
    }
   ],
   "source": [
    "#cria a string do construtor\n",
    "#  this.email = customer.email;\n",
    "atributos = \"  \"\n",
    "final = len(column_names) - 1\n",
    "\n",
    "for index, campo in enumerate(column_names):\n",
    "    if (campo != \"id\"):\n",
    "        if final != int(index):\n",
    "            atributos += \"\"\"this.{0} = {1}.{0},\\n  \"\"\".format(campo, column_name)\n",
    "        else:\n",
    "            atributos += \"\"\"this.{0} = {1}.{0}\\n  \"\"\".format(campo, column_name)\n",
    "atributos"
   ]
  },
  {
   "cell_type": "code",
   "execution_count": null,
   "metadata": {},
   "outputs": [],
   "source": []
  },
  {
   "cell_type": "code",
   "execution_count": null,
   "metadata": {},
   "outputs": [],
   "source": []
  },
  {
   "cell_type": "code",
   "execution_count": null,
   "metadata": {},
   "outputs": [],
   "source": []
  },
  {
   "cell_type": "code",
   "execution_count": null,
   "metadata": {},
   "outputs": [],
   "source": []
  },
  {
   "cell_type": "code",
   "execution_count": null,
   "metadata": {},
   "outputs": [],
   "source": []
  },
  {
   "cell_type": "code",
   "execution_count": 115,
   "metadata": {},
   "outputs": [],
   "source": [
    "sql = \"\"\n",
    "campoSql = \"\"\n",
    "for index, campo in enumerate(column_names):\n",
    "    if (campo != \"id\"):\n",
    "        if final != int(index):\n",
    "            sql += \"\"\"{0},\"\"\".format(campo)\n",
    "        else:\n",
    "            sql += \"\"\"{0}\"\"\".format(campo)"
   ]
  },
  {
   "cell_type": "code",
   "execution_count": 116,
   "metadata": {},
   "outputs": [
    {
     "data": {
      "text/plain": [
       "'title,color,start,end'"
      ]
     },
     "execution_count": 116,
     "metadata": {},
     "output_type": "execute_result"
    }
   ],
   "source": [
    "sql"
   ]
  },
  {
   "cell_type": "code",
   "execution_count": 117,
   "metadata": {},
   "outputs": [
    {
     "data": {
      "text/plain": [
       "'?,?,?,?'"
      ]
     },
     "execution_count": 117,
     "metadata": {},
     "output_type": "execute_result"
    }
   ],
   "source": [
    "listasc = \"\"\n",
    "listaInterrog = \"\"\n",
    "for index, campo in enumerate(column_names):\n",
    "    if (campo != \"id\"):\n",
    "        if final != int(index):\n",
    "            listasc += \"\"\"{0}.{1},\"\"\".format(column_name, campo)\n",
    "            listaInterrog += \"\"\"?,\"\"\"\n",
    "        else:\n",
    "            listasc += \"\"\"{0}.{1}\"\"\".format(column_name, campo)\n",
    "            listaInterrog += \"\"\"?\"\"\"\n",
    "listasc\n",
    "\n",
    "listaInterrog"
   ]
  },
  {
   "cell_type": "code",
   "execution_count": null,
   "metadata": {},
   "outputs": [],
   "source": []
  },
  {
   "cell_type": "code",
   "execution_count": null,
   "metadata": {},
   "outputs": [],
   "source": []
  },
  {
   "cell_type": "code",
   "execution_count": 121,
   "metadata": {},
   "outputs": [
    {
     "ename": "KeyError",
     "evalue": "' kind'",
     "output_type": "error",
     "traceback": [
      "\u001b[1;31m---------------------------------------------------------------------------\u001b[0m",
      "\u001b[1;31mKeyError\u001b[0m                                  Traceback (most recent call last)",
      "\u001b[1;32m<ipython-input-121-264cfebcd1b8>\u001b[0m in \u001b[0;36m<module>\u001b[1;34m\u001b[0m\n\u001b[0;32m     58\u001b[0m \u001b[1;33m\u001b[0m\u001b[0m\n\u001b[0;32m     59\u001b[0m \u001b[0mf\u001b[0m \u001b[1;33m=\u001b[0m \u001b[0mopen\u001b[0m\u001b[1;33m(\u001b[0m\u001b[1;34m\"{0}.model.js\"\u001b[0m\u001b[1;33m.\u001b[0m\u001b[0mformat\u001b[0m\u001b[1;33m(\u001b[0m\u001b[0mcolumn_name\u001b[0m\u001b[1;33m)\u001b[0m\u001b[1;33m,\u001b[0m \u001b[1;34m\"w\"\u001b[0m\u001b[1;33m)\u001b[0m\u001b[1;33m\u001b[0m\u001b[1;33m\u001b[0m\u001b[0m\n\u001b[1;32m---> 60\u001b[1;33m \u001b[0mf\u001b[0m\u001b[1;33m.\u001b[0m\u001b[0mwrite\u001b[0m\u001b[1;33m(\u001b[0m\u001b[0mmodel\u001b[0m\u001b[1;33m.\u001b[0m\u001b[0mformat\u001b[0m\u001b[1;33m(\u001b[0m\u001b[0mcolumn_name\u001b[0m\u001b[1;33m,\u001b[0m \u001b[0mcolumn_name\u001b[0m\u001b[1;33m.\u001b[0m\u001b[0mcapitalize\u001b[0m\u001b[1;33m(\u001b[0m\u001b[1;33m)\u001b[0m\u001b[1;33m,\u001b[0m \u001b[0matributos\u001b[0m\u001b[1;33m,\u001b[0m \u001b[0msql\u001b[0m\u001b[1;33m,\u001b[0m \u001b[0mlistaInterrog\u001b[0m\u001b[1;33m,\u001b[0m \u001b[0mlistasc\u001b[0m\u001b[1;33m)\u001b[0m\u001b[1;33m)\u001b[0m\u001b[1;33m\u001b[0m\u001b[1;33m\u001b[0m\u001b[0m\n\u001b[0m\u001b[0;32m     61\u001b[0m \u001b[1;33m\u001b[0m\u001b[0m\n\u001b[0;32m     62\u001b[0m \u001b[0mf\u001b[0m\u001b[1;33m.\u001b[0m\u001b[0mclose\u001b[0m\u001b[1;33m(\u001b[0m\u001b[1;33m)\u001b[0m\u001b[1;33m\u001b[0m\u001b[1;33m\u001b[0m\u001b[0m\n",
      "\u001b[1;31mKeyError\u001b[0m: ' kind'"
     ]
    }
   ],
   "source": [
    "#table-name.model.js\n",
    "\n",
    "model = \"\"\"const sql = require(\"./db.js\");\n",
    "\n",
    "// Construtor\n",
    "const {1} = function({0}) {{\n",
    "{2}\n",
    "}};\n",
    "\n",
    "// Adicionar registro\n",
    "{1}.create = ({0}, result) => {{\n",
    "  sql.query(\"INSERT INTO {0}({3}) VALUES({4})\", \n",
    "  [{5}], (err, res) => {{\n",
    "    if (err) {{\n",
    "      console.log(\"error: \", err);\n",
    "      result(err, null);\n",
    "      return;\n",
    "    }}\n",
    "    result(null, {{ id: res.id, ...{0} }});\n",
    "  }});\n",
    "}};\n",
    "\n",
    "\n",
    "// Seleciona todos os registros\n",
    "{1}.getAll = result => {{\n",
    "  sql.query(\"SELECT * FROM {0}\", (err, res) => {{\n",
    "    if (err) {{\n",
    "      console.log(\"error: \", err);\n",
    "      result(null, err);\n",
    "      return;\n",
    "    }}\n",
    "\n",
    "    console.log(\"{0}: \", res);\n",
    "    result(null, res);\n",
    "  }});\n",
    "}};\n",
    "\n",
    "\n",
    "// Seleciona registro por id\n",
    "{1}.findById = (id, result) => {{\n",
    "  sql.query(`SELECT * FROM {0} WHERE id = ${{id}}`, (err, res) => {{\n",
    "    if (err) {{\n",
    "      result(err, null);\n",
    "      return;\n",
    "    }}\n",
    "    if (res.length) {{\n",
    "      result(null, res[0]);\n",
    "      return;\n",
    "    }}\n",
    "    result({ kind: \"not_found\" }, null);\n",
    "  }});\n",
    "}};\n",
    "\n",
    "module.exports = {1};\n",
    "\"\"\"\n",
    "\n",
    "\n",
    "\n",
    "f = open(\"{0}.model.js\".format(column_name), \"w\")\n",
    "f.write(model.format(column_name, column_name.capitalize(), atributos, sql, listaInterrog, listasc))\n",
    "             \n",
    "f.close()"
   ]
  },
  {
   "cell_type": "code",
   "execution_count": null,
   "metadata": {},
   "outputs": [],
   "source": []
  },
  {
   "cell_type": "code",
   "execution_count": null,
   "metadata": {},
   "outputs": [],
   "source": []
  },
  {
   "cell_type": "code",
   "execution_count": null,
   "metadata": {},
   "outputs": [],
   "source": []
  },
  {
   "cell_type": "code",
   "execution_count": null,
   "metadata": {},
   "outputs": [],
   "source": []
  },
  {
   "cell_type": "code",
   "execution_count": null,
   "metadata": {},
   "outputs": [],
   "source": []
  },
  {
   "cell_type": "code",
   "execution_count": null,
   "metadata": {},
   "outputs": [],
   "source": [
    "    "
   ]
  }
 ],
 "metadata": {
  "kernelspec": {
   "display_name": "Python 3",
   "language": "python",
   "name": "python3"
  },
  "language_info": {
   "codemirror_mode": {
    "name": "ipython",
    "version": 3
   },
   "file_extension": ".py",
   "mimetype": "text/x-python",
   "name": "python",
   "nbconvert_exporter": "python",
   "pygments_lexer": "ipython3",
   "version": "3.7.4"
  }
 },
 "nbformat": 4,
 "nbformat_minor": 4
}
